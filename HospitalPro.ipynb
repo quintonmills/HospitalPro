{
  "nbformat": 4,
  "nbformat_minor": 0,
  "metadata": {
    "colab": {
      "provenance": []
    },
    "kernelspec": {
      "name": "python3",
      "display_name": "Python 3"
    },
    "language_info": {
      "name": "python"
    }
  },
  "cells": [
    {
      "cell_type": "code",
      "execution_count": 1,
      "metadata": {
        "colab": {
          "base_uri": "https://localhost:8080/"
        },
        "id": "E7fU5y71x2iV",
        "outputId": "98322f6f-77e3-4d0f-a496-7673a986f529"
      },
      "outputs": [
        {
          "output_type": "stream",
          "name": "stdout",
          "text": [
            "Python: 3.10.12 (main, Jun  7 2023, 12:45:35) [GCC 9.4.0]\n",
            "scipy: 1.10.1\n",
            "numpy: 1.22.4\n",
            "pandas: 1.5.3\n",
            "sklearn: 1.2.2\n",
            "matplotlib: 3.7.1\n"
          ]
        }
      ],
      "source": [
        "import sys\n",
        "import scipy\n",
        "import numpy\n",
        "import matplotlib\n",
        "import pandas\n",
        "import sklearn\n",
        "print('Python: {}'.format(sys.version))\n",
        "print('scipy: {}'.format(scipy.__version__))\n",
        "print('numpy: {}'.format(numpy.__version__))\n",
        "print('pandas: {}'.format(pandas.__version__))\n",
        "print('sklearn: {}'.format(sklearn.__version__))\n",
        "print('matplotlib: {}'.format(matplotlib.__version__))"
      ]
    },
    {
      "cell_type": "code",
      "source": [
        "import numpy as np\n",
        "from sklearn import preprocessing\n",
        "from sklearn.model_selection import train_test_split\n",
        "from sklearn.neighbors import KNeighborsClassifier\n",
        "from sklearn.svm import SVC\n",
        "from sklearn import model_selection\n",
        "from sklearn.metrics import classification_report\n",
        "from sklearn.metrics import accuracy_score\n",
        "from pandas.plotting import scatter_matrix\n",
        "import matplotlib.pyplot as plt\n",
        "import pandas as pd"
      ],
      "metadata": {
        "id": "_scynN20-7AG"
      },
      "execution_count": 3,
      "outputs": []
    },
    {
      "cell_type": "code",
      "source": [
        "# Load Dataset\n",
        "url = \"https://archive.ics.uci.edu/ml/machine-learning-databases/breast-cancer-wisconsin/breast-cancer-wisconsin.data\"\n",
        "names = ['id', 'clump_thickness','uniform_cell_size','uniform_cell_shape','marginal_adhesion','single_epithelial_size','bare_nuclei',\n",
        "         'bland_chromation','normal_nucleoli','nutises','class']\n",
        "df = pd.read_csv(url,names=names)"
      ],
      "metadata": {
        "id": "8zGy_Pp2CDVl"
      },
      "execution_count": 4,
      "outputs": []
    }
  ]
}