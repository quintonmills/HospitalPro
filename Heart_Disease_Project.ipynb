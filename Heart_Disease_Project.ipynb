{
  "nbformat": 4,
  "nbformat_minor": 0,
  "metadata": {
    "colab": {
      "provenance": []
    },
    "kernelspec": {
      "name": "python3",
      "display_name": "Python 3"
    },
    "language_info": {
      "name": "python"
    }
  },
  "cells": [
    {
      "cell_type": "markdown",
      "source": [
        "Import parameters:\n",
        "  Number of instances: 302\n",
        "  Number ofo attributes: 14 continuous attributes\n",
        "Each of the attributes:\n",
        "  age: Age in years\n",
        "  sex: Sex(1 = male, 0 = female)\n",
        "  cp: Chest pain type (Value 1: typical angina, Value 2: atypical agina,\n",
        "  Value 3: non-aginal pain, Value 4:asymptonmatic)\n",
        "    trestbps: Resting blood pressure (in mmHg on admission to the hospital)\n",
        "    chol: Serum Cholestroal in mg/dl\n",
        "    fbs: fast bloodo sugar > 120 mg/dl (1 = true, 0 = false)\n",
        "    restecg: Resting electrocardiogrraphic results (0: normal, 1: having ST-T wave abnormality (T wave inversions and/or St elevation or depression of > 0.05mv,2: showing probable or definite ventricular hypertrophy by Estes criteria)\n",
        "    \n"
      ],
      "metadata": {
        "id": "qNAVouKNiobV"
      }
    }
  ]
}