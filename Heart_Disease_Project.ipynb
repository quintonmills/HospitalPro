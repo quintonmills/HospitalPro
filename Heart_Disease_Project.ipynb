{
  "nbformat": 4,
  "nbformat_minor": 0,
  "metadata": {
    "colab": {
      "provenance": [],
      "authorship_tag": "ABX9TyOYYKXfZ+FXTcX6gxRe562k",
      "include_colab_link": true
    },
    "kernelspec": {
      "name": "python3",
      "display_name": "Python 3"
    },
    "language_info": {
      "name": "python"
    }
  },
  "cells": [
    {
      "cell_type": "markdown",
      "metadata": {
        "id": "view-in-github",
        "colab_type": "text"
      },
      "source": [
        "<a href=\"https://colab.research.google.com/github/quintonmills/HospitalPro/blob/main/Heart_Disease_Project.ipynb\" target=\"_parent\"><img src=\"https://colab.research.google.com/assets/colab-badge.svg\" alt=\"Open In Colab\"/></a>"
      ]
    },
    {
      "cell_type": "markdown",
      "source": [
        "Import parameters:\n",
        "  Number of instances: 302\n",
        "  Number ofo attributes: 14 continuous attributes\n",
        "Each of the attributes:\n",
        "  age: Age in years\n",
        "  sex: Sex(1 = male, 0 = female)\n",
        "  cp: Chest pain type (Value 1: typical angina, Value 2: atypical agina,\n",
        "  Value 3: non-aginal pain, Value 4:asymptonmatic)\n",
        "    trestbps: Resting blood pressure (in mmHg on admission to the hospital)\n",
        "    chol: Serum Cholestroal in mg/dl\n",
        "    fbs: fast bloodo sugar > 120 mg/dl (1 = true, 0 = false)\n",
        "    restecg: Resting electrocardiogrraphic results (0: normal, 1: having ST-T wave abnormality (T wave inversions and/or St elevation or depression of > 0.05mv,2: showing probable or definite ventricular hypertrophy by Estes criteria)thalach: Maximum heart rate achieved exang: exercise iincluded angina (1 = yes, 0 = no) oldpeak: ST depression induced by exercise relative to rest slope: the slope of the peak exercise ST segment (Value 1L=: unsloping, Value 2: flat, Value 3: downsloping0 ca: Number of major vessels 0-3 colored by floursopy thal: 3= normal 6= fixed ldefect, 7 = reversable defect Heart Disease: Diagnosis of heart disease - anagraphic disesase status (Value: 0 <50% diameter narrowing, Value 1:> 50% diameter narrowing) in any major vessel: attributes 59 through 68 are vessels\n",
        "    \n"
      ],
      "metadata": {
        "id": "qNAVouKNiobV"
      }
    },
    {
      "cell_type": "code",
      "source": [
        "import pandas as pd"
      ],
      "metadata": {
        "id": "DXzEsLkFX1Ru"
      },
      "execution_count": 1,
      "outputs": []
    },
    {
      "cell_type": "code",
      "source": [
        "from google.colab import drive\n",
        "drive.mount('/content/drive')\n"
      ],
      "metadata": {
        "colab": {
          "base_uri": "https://localhost:8080/"
        },
        "id": "zUIQ2numX4bj",
        "outputId": "069f4bd9-4ab1-43be-971a-f758d2f2d018"
      },
      "execution_count": 2,
      "outputs": [
        {
          "output_type": "stream",
          "name": "stdout",
          "text": [
            "Mounted at /content/drive\n"
          ]
        }
      ]
    },
    {
      "cell_type": "code",
      "source": [
        "%cd /content/drive/My Drive/Colab Notebooks"
      ],
      "metadata": {
        "colab": {
          "base_uri": "https://localhost:8080/"
        },
        "id": "BlaOWjWsYGhg",
        "outputId": "2226e4db-3f8e-4395-e94f-1672fe9db0ce"
      },
      "execution_count": 3,
      "outputs": [
        {
          "output_type": "stream",
          "name": "stdout",
          "text": [
            "/content/drive/My Drive/Colab Notebooks\n"
          ]
        }
      ]
    },
    {
      "cell_type": "code",
      "source": [
        "HDNames= ['age','sex','cp','trestbps','chol','fbs','restecg','thalach','exang','oldpeak','slope','ca','hal','HeartDisease']\n",
        "Data = pd.read_excel('Ch3.ClevelandData.xlsx', names=HDNames)"
      ],
      "metadata": {
        "id": "8_C2IYi8ZMPK"
      },
      "execution_count": 11,
      "outputs": []
    },
    {
      "cell_type": "code",
      "source": [
        "print(Data.head(20))\n",
        "print(Data.info())\n",
        "summary = Data.describe()\n",
        "print(summary)"
      ],
      "metadata": {
        "colab": {
          "base_uri": "https://localhost:8080/"
        },
        "id": "ce997rxUaQS6",
        "outputId": "3eb5a210-6f40-4636-d3e6-f404bde01238"
      },
      "execution_count": 12,
      "outputs": [
        {
          "output_type": "stream",
          "name": "stdout",
          "text": [
            "    age  sex  cp  trestbps  chol  fbs  restecg  thalach  exang  oldpeak  \\\n",
            "0    67    1   4       160   286    0        2      108      1      1.5   \n",
            "1    67    1   4       120   229    0        2      129      1      2.6   \n",
            "2    37    1   3       130   250    0        0      187      0      3.5   \n",
            "3    41    0   2       130   204    0        2      172      0      1.4   \n",
            "4    56    1   2       120   236    0        0      178      0      0.8   \n",
            "5    62    0   4       140   268    0        2      160      0      3.6   \n",
            "6    57    0   4       120   354    0        0      163      1      0.6   \n",
            "7    63    1   4       130   254    0        2      147      0      1.4   \n",
            "8    53    1   4       140   203    1        2      155      1      3.1   \n",
            "9    57    1   4       140   192    0        0      148      0      0.4   \n",
            "10   56    0   2       140   294    0        2      153      0      1.3   \n",
            "11   56    1   3       130   256    1        2      142      1      0.6   \n",
            "12   44    1   2       120   263    0        0      173      0      0.0   \n",
            "13   52    1   3       172   199    1        0      162      0      0.5   \n",
            "14   57    1   3       150   168    0        0      174      0      1.6   \n",
            "15   48    1   2       110   229    0        0      168      0      1.0   \n",
            "16   54    1   4       140   239    0        0      160      0      1.2   \n",
            "17   48    0   3       130   275    0        0      139      0      0.2   \n",
            "18   49    1   2       130   266    0        0      171      0      0.6   \n",
            "19   64    1   1       110   211    0        2      144      1      1.8   \n",
            "\n",
            "    slope ca hal  HeartDisease  \n",
            "0       2  3   3             1  \n",
            "1       2  2   7             1  \n",
            "2       3  0   3             0  \n",
            "3       1  0   3             0  \n",
            "4       1  0   3             0  \n",
            "5       3  2   3             1  \n",
            "6       1  0   3             0  \n",
            "7       2  1   7             1  \n",
            "8       3  0   7             1  \n",
            "9       2  0   6             0  \n",
            "10      2  0   3             0  \n",
            "11      2  1   6             1  \n",
            "12      1  0   7             0  \n",
            "13      1  0   7             0  \n",
            "14      1  0   3             0  \n",
            "15      3  0   7             1  \n",
            "16      1  0   3             0  \n",
            "17      1  0   3             0  \n",
            "18      1  0   3             0  \n",
            "19      2  0   3             0  \n",
            "<class 'pandas.core.frame.DataFrame'>\n",
            "RangeIndex: 302 entries, 0 to 301\n",
            "Data columns (total 14 columns):\n",
            " #   Column        Non-Null Count  Dtype  \n",
            "---  ------        --------------  -----  \n",
            " 0   age           302 non-null    int64  \n",
            " 1   sex           302 non-null    int64  \n",
            " 2   cp            302 non-null    int64  \n",
            " 3   trestbps      302 non-null    int64  \n",
            " 4   chol          302 non-null    int64  \n",
            " 5   fbs           302 non-null    int64  \n",
            " 6   restecg       302 non-null    int64  \n",
            " 7   thalach       302 non-null    int64  \n",
            " 8   exang         302 non-null    int64  \n",
            " 9   oldpeak       302 non-null    float64\n",
            " 10  slope         302 non-null    int64  \n",
            " 11  ca            302 non-null    object \n",
            " 12  hal           302 non-null    object \n",
            " 13  HeartDisease  302 non-null    int64  \n",
            "dtypes: float64(1), int64(11), object(2)\n",
            "memory usage: 33.2+ KB\n",
            "None\n",
            "              age         sex          cp    trestbps        chol         fbs  \\\n",
            "count  302.000000  302.000000  302.000000  302.000000  302.000000  302.000000   \n",
            "mean    54.410596    0.678808    3.165563  131.645695  246.738411    0.145695   \n",
            "std      9.040163    0.467709    0.953612   17.612202   51.856829    0.353386   \n",
            "min     29.000000    0.000000    1.000000   94.000000  126.000000    0.000000   \n",
            "25%     48.000000    0.000000    3.000000  120.000000  211.000000    0.000000   \n",
            "50%     55.500000    1.000000    3.000000  130.000000  241.500000    0.000000   \n",
            "75%     61.000000    1.000000    4.000000  140.000000  275.000000    0.000000   \n",
            "max     77.000000    1.000000    4.000000  200.000000  564.000000    1.000000   \n",
            "\n",
            "          restecg     thalach       exang     oldpeak       slope  \\\n",
            "count  302.000000  302.000000  302.000000  302.000000  302.000000   \n",
            "mean     0.986755  149.605960    0.327815    1.035430    1.596026   \n",
            "std      0.994916   22.912959    0.470196    1.160723    0.611939   \n",
            "min      0.000000   71.000000    0.000000    0.000000    1.000000   \n",
            "25%      0.000000  133.250000    0.000000    0.000000    1.000000   \n",
            "50%      0.500000  153.000000    0.000000    0.800000    2.000000   \n",
            "75%      2.000000  166.000000    1.000000    1.600000    2.000000   \n",
            "max      2.000000  202.000000    1.000000    6.200000    3.000000   \n",
            "\n",
            "       HeartDisease  \n",
            "count    302.000000  \n",
            "mean       0.460265  \n",
            "std        0.499246  \n",
            "min        0.000000  \n",
            "25%        0.000000  \n",
            "50%        0.000000  \n",
            "75%        1.000000  \n",
            "max        1.000000  \n"
          ]
        }
      ]
    },
    {
      "cell_type": "code",
      "source": [
        "#Exploratory Analyisis"
      ],
      "metadata": {
        "id": "BiCC130bcprC"
      },
      "execution_count": 13,
      "outputs": []
    },
    {
      "cell_type": "markdown",
      "source": [
        "Pandas dtype: object -> python dtype is string -> usage is text Pandas dtypeL int 64 -> python dtype is float -> usage is floating point numbers"
      ],
      "metadata": {
        "id": "bxyBmUSRcxKZ"
      }
    },
    {
      "cell_type": "code",
      "source": [
        "#Removing missing values\n",
        "import numpy as np"
      ],
      "metadata": {
        "id": "_RWcJxvWdLH-"
      },
      "execution_count": 14,
      "outputs": []
    },
    {
      "cell_type": "code",
      "source": [
        "DataNew = Data.replace('?', np.nan)\n"
      ],
      "metadata": {
        "id": "gZCf51c9dRD-"
      },
      "execution_count": 15,
      "outputs": []
    },
    {
      "cell_type": "code",
      "source": [
        "print(Data.info())"
      ],
      "metadata": {
        "colab": {
          "base_uri": "https://localhost:8080/"
        },
        "id": "qsxRPN5sdZ3M",
        "outputId": "b68649f8-0c96-487c-fbf5-051ae56c2805"
      },
      "execution_count": 16,
      "outputs": [
        {
          "output_type": "stream",
          "name": "stdout",
          "text": [
            "<class 'pandas.core.frame.DataFrame'>\n",
            "RangeIndex: 302 entries, 0 to 301\n",
            "Data columns (total 14 columns):\n",
            " #   Column        Non-Null Count  Dtype  \n",
            "---  ------        --------------  -----  \n",
            " 0   age           302 non-null    int64  \n",
            " 1   sex           302 non-null    int64  \n",
            " 2   cp            302 non-null    int64  \n",
            " 3   trestbps      302 non-null    int64  \n",
            " 4   chol          302 non-null    int64  \n",
            " 5   fbs           302 non-null    int64  \n",
            " 6   restecg       302 non-null    int64  \n",
            " 7   thalach       302 non-null    int64  \n",
            " 8   exang         302 non-null    int64  \n",
            " 9   oldpeak       302 non-null    float64\n",
            " 10  slope         302 non-null    int64  \n",
            " 11  ca            302 non-null    object \n",
            " 12  hal           302 non-null    object \n",
            " 13  HeartDisease  302 non-null    int64  \n",
            "dtypes: float64(1), int64(11), object(2)\n",
            "memory usage: 33.2+ KB\n",
            "None\n"
          ]
        }
      ]
    },
    {
      "cell_type": "code",
      "source": [
        "print(DataNew.describe())"
      ],
      "metadata": {
        "colab": {
          "base_uri": "https://localhost:8080/"
        },
        "id": "Xqo5jRA0dd-l",
        "outputId": "5aad8ed5-f665-47df-9cf3-1a7bb1f5b984"
      },
      "execution_count": 17,
      "outputs": [
        {
          "output_type": "stream",
          "name": "stdout",
          "text": [
            "              age         sex          cp    trestbps        chol         fbs  \\\n",
            "count  302.000000  302.000000  302.000000  302.000000  302.000000  302.000000   \n",
            "mean    54.410596    0.678808    3.165563  131.645695  246.738411    0.145695   \n",
            "std      9.040163    0.467709    0.953612   17.612202   51.856829    0.353386   \n",
            "min     29.000000    0.000000    1.000000   94.000000  126.000000    0.000000   \n",
            "25%     48.000000    0.000000    3.000000  120.000000  211.000000    0.000000   \n",
            "50%     55.500000    1.000000    3.000000  130.000000  241.500000    0.000000   \n",
            "75%     61.000000    1.000000    4.000000  140.000000  275.000000    0.000000   \n",
            "max     77.000000    1.000000    4.000000  200.000000  564.000000    1.000000   \n",
            "\n",
            "          restecg     thalach       exang     oldpeak       slope          ca  \\\n",
            "count  302.000000  302.000000  302.000000  302.000000  302.000000  298.000000   \n",
            "mean     0.986755  149.605960    0.327815    1.035430    1.596026    0.674497   \n",
            "std      0.994916   22.912959    0.470196    1.160723    0.611939    0.938202   \n",
            "min      0.000000   71.000000    0.000000    0.000000    1.000000    0.000000   \n",
            "25%      0.000000  133.250000    0.000000    0.000000    1.000000    0.000000   \n",
            "50%      0.500000  153.000000    0.000000    0.800000    2.000000    0.000000   \n",
            "75%      2.000000  166.000000    1.000000    1.600000    2.000000    1.000000   \n",
            "max      2.000000  202.000000    1.000000    6.200000    3.000000    3.000000   \n",
            "\n",
            "              hal  HeartDisease  \n",
            "count  300.000000    302.000000  \n",
            "mean     4.730000      0.460265  \n",
            "std      1.941563      0.499246  \n",
            "min      3.000000      0.000000  \n",
            "25%      3.000000      0.000000  \n",
            "50%      3.000000      0.000000  \n",
            "75%      7.000000      1.000000  \n",
            "max      7.000000      1.000000  \n"
          ]
        }
      ]
    },
    {
      "cell_type": "code",
      "source": [
        "print(DataNew.describe())"
      ],
      "metadata": {
        "colab": {
          "base_uri": "https://localhost:8080/"
        },
        "id": "Tdc-TssOdpxl",
        "outputId": "09146a2b-14e2-4cd3-f1b4-47c4c1849a47"
      },
      "execution_count": 18,
      "outputs": [
        {
          "output_type": "stream",
          "name": "stdout",
          "text": [
            "              age         sex          cp    trestbps        chol         fbs  \\\n",
            "count  302.000000  302.000000  302.000000  302.000000  302.000000  302.000000   \n",
            "mean    54.410596    0.678808    3.165563  131.645695  246.738411    0.145695   \n",
            "std      9.040163    0.467709    0.953612   17.612202   51.856829    0.353386   \n",
            "min     29.000000    0.000000    1.000000   94.000000  126.000000    0.000000   \n",
            "25%     48.000000    0.000000    3.000000  120.000000  211.000000    0.000000   \n",
            "50%     55.500000    1.000000    3.000000  130.000000  241.500000    0.000000   \n",
            "75%     61.000000    1.000000    4.000000  140.000000  275.000000    0.000000   \n",
            "max     77.000000    1.000000    4.000000  200.000000  564.000000    1.000000   \n",
            "\n",
            "          restecg     thalach       exang     oldpeak       slope          ca  \\\n",
            "count  302.000000  302.000000  302.000000  302.000000  302.000000  298.000000   \n",
            "mean     0.986755  149.605960    0.327815    1.035430    1.596026    0.674497   \n",
            "std      0.994916   22.912959    0.470196    1.160723    0.611939    0.938202   \n",
            "min      0.000000   71.000000    0.000000    0.000000    1.000000    0.000000   \n",
            "25%      0.000000  133.250000    0.000000    0.000000    1.000000    0.000000   \n",
            "50%      0.500000  153.000000    0.000000    0.800000    2.000000    0.000000   \n",
            "75%      2.000000  166.000000    1.000000    1.600000    2.000000    1.000000   \n",
            "max      2.000000  202.000000    1.000000    6.200000    3.000000    3.000000   \n",
            "\n",
            "              hal  HeartDisease  \n",
            "count  300.000000    302.000000  \n",
            "mean     4.730000      0.460265  \n",
            "std      1.941563      0.499246  \n",
            "min      3.000000      0.000000  \n",
            "25%      3.000000      0.000000  \n",
            "50%      3.000000      0.000000  \n",
            "75%      7.000000      1.000000  \n",
            "max      7.000000      1.000000  \n"
          ]
        }
      ]
    },
    {
      "cell_type": "code",
      "source": [
        "print(DataNew.isnull().sum())"
      ],
      "metadata": {
        "colab": {
          "base_uri": "https://localhost:8080/"
        },
        "id": "zMrUqE0Ydqso",
        "outputId": "6aec6fb6-8199-4909-870b-9ab011a11715"
      },
      "execution_count": 19,
      "outputs": [
        {
          "output_type": "stream",
          "name": "stdout",
          "text": [
            "age             0\n",
            "sex             0\n",
            "cp              0\n",
            "trestbps        0\n",
            "chol            0\n",
            "fbs             0\n",
            "restecg         0\n",
            "thalach         0\n",
            "exang           0\n",
            "oldpeak         0\n",
            "slope           0\n",
            "ca              4\n",
            "hal             2\n",
            "HeartDisease    0\n",
            "dtype: int64\n"
          ]
        }
      ]
    },
    {
      "cell_type": "markdown",
      "source": [
        "Replace the values with constant values\n",
        "set the values with other columns' values\n",
        "Transform the data with functions\n",
        "Delete rows\n"
      ],
      "metadata": {
        "id": "LJ_mRhO2d9JO"
      }
    },
    {
      "cell_type": "code",
      "source": [
        "DataNew = DataNew.dropna()"
      ],
      "metadata": {
        "id": "05YT4Ls1eN9s"
      },
      "execution_count": 20,
      "outputs": []
    },
    {
      "cell_type": "code",
      "source": [
        "print(DataNew.info())"
      ],
      "metadata": {
        "colab": {
          "base_uri": "https://localhost:8080/"
        },
        "id": "7HsTbvHyeSCN",
        "outputId": "efd38435-cd63-4ba9-aeb3-8a88ef1c005f"
      },
      "execution_count": 21,
      "outputs": [
        {
          "output_type": "stream",
          "name": "stdout",
          "text": [
            "<class 'pandas.core.frame.DataFrame'>\n",
            "Int64Index: 296 entries, 0 to 300\n",
            "Data columns (total 14 columns):\n",
            " #   Column        Non-Null Count  Dtype  \n",
            "---  ------        --------------  -----  \n",
            " 0   age           296 non-null    int64  \n",
            " 1   sex           296 non-null    int64  \n",
            " 2   cp            296 non-null    int64  \n",
            " 3   trestbps      296 non-null    int64  \n",
            " 4   chol          296 non-null    int64  \n",
            " 5   fbs           296 non-null    int64  \n",
            " 6   restecg       296 non-null    int64  \n",
            " 7   thalach       296 non-null    int64  \n",
            " 8   exang         296 non-null    int64  \n",
            " 9   oldpeak       296 non-null    float64\n",
            " 10  slope         296 non-null    int64  \n",
            " 11  ca            296 non-null    float64\n",
            " 12  hal           296 non-null    float64\n",
            " 13  HeartDisease  296 non-null    int64  \n",
            "dtypes: float64(3), int64(11)\n",
            "memory usage: 34.7 KB\n",
            "None\n"
          ]
        }
      ]
    },
    {
      "cell_type": "code",
      "source": [
        "print(DataNew.isnull().sum())"
      ],
      "metadata": {
        "colab": {
          "base_uri": "https://localhost:8080/"
        },
        "id": "gUywp7cYeVt7",
        "outputId": "96e8e632-ea08-4fc4-b5e6-df212aa268fd"
      },
      "execution_count": 22,
      "outputs": [
        {
          "output_type": "stream",
          "name": "stdout",
          "text": [
            "age             0\n",
            "sex             0\n",
            "cp              0\n",
            "trestbps        0\n",
            "chol            0\n",
            "fbs             0\n",
            "restecg         0\n",
            "thalach         0\n",
            "exang           0\n",
            "oldpeak         0\n",
            "slope           0\n",
            "ca              0\n",
            "hal             0\n",
            "HeartDisease    0\n",
            "dtype: int64\n"
          ]
        }
      ]
    },
    {
      "cell_type": "markdown",
      "source": [
        "x(scaled) = (x-mean)/sd\n",
        "Mean = 0 standard deviation == 1\n",
        "\n",
        "Value > mean will have +z score\n",
        "value < mean will have -z score"
      ],
      "metadata": {
        "id": "4IgbA-Bkef0o"
      }
    },
    {
      "cell_type": "code",
      "source": [
        "inputnames = HDNames\n",
        "inputnames.pop()\n"
      ],
      "metadata": {
        "colab": {
          "base_uri": "https://localhost:8080/",
          "height": 35
        },
        "id": "UipyNbfuexgY",
        "outputId": "f4ed022b-4858-4ec6-9342-da2d2b816a3a"
      },
      "execution_count": 23,
      "outputs": [
        {
          "output_type": "execute_result",
          "data": {
            "text/plain": [
              "'HeartDisease'"
            ],
            "application/vnd.google.colaboratory.intrinsic+json": {
              "type": "string"
            }
          },
          "metadata": {},
          "execution_count": 23
        }
      ]
    },
    {
      "cell_type": "code",
      "source": [],
      "metadata": {
        "id": "iKyTHIx6e9qw"
      },
      "execution_count": null,
      "outputs": []
    }
  ]
}